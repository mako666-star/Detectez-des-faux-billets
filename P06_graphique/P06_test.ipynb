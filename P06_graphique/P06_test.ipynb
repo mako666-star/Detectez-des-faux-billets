{
 "cells": [
  {
   "cell_type": "code",
   "execution_count": 2,
   "metadata": {},
   "outputs": [],
   "source": [
    "import pickle\n",
    "import pandas as pd\n",
    "import numpy as np\n",
    "data_test = pd.read_csv(\"example.csv\", sep=',')\n",
    "# Récupération du modèle de Régression Logistique 'lr'\n",
    "with open('model.pkl', 'rb') as f:\n",
    "    my_unpickler = pickle.Unpickler(f)\n",
    "    model_logit = my_unpickler.load()\n",
    "\n",
    "    y_pred = model_logit.predict_proba(data_test[['diagonal','height_left','height_right','length','margin_low','margin_up']].values) \n",
    "#predictions = [round(value) for value in y_pred]\n",
    "#print(ytest)\n",
    "#precision = logit_model_reloaded.score(data_test[['diagonal','height_left','height_right','margin_low','margin_up','length']],predictions)\n",
    "#print(np.around(precision,decimals=2)*100,'%')"
   ]
  },
  {
   "cell_type": "code",
   "execution_count": 3,
   "metadata": {},
   "outputs": [
    {
     "name": "stdout",
     "output_type": "stream",
     "text": [
      "Prédictions  A_1  :  0.07\n",
      "Prédictions  A_2  :  0.01\n",
      "Prédictions  A_3  :  0.05\n",
      "Prédictions  A_4  :  0.87\n",
      "Prédictions  A_5  :  1.0\n"
     ]
    }
   ],
   "source": [
    "print('Prédictions ', data_test['id'][0],' : ', np.around(y_pred[0][1],decimals=2))\n",
    "print('Prédictions ', data_test['id'][1],' : ', np.around(y_pred[1][1],decimals=2))\n",
    "print('Prédictions ', data_test['id'][2],' : ', np.around(y_pred[2][1],decimals=2))\n",
    "print('Prédictions ', data_test['id'][3],' : ', np.around(y_pred[3][1],decimals=2))\n",
    "print('Prédictions ', data_test['id'][4],' : ', np.around(y_pred[4][1],decimals=2))"
   ]
  },
  {
   "cell_type": "code",
   "execution_count": 4,
   "metadata": {},
   "outputs": [],
   "source": [
    " # implémentation de la colonne Vrai / Faux pour chaque billet\n",
    "predict = []\n",
    "prt_predict = []\n",
    "for i in y_pred:\n",
    "    if i[1] < 0.5:\n",
    "        predict.append(False)\n",
    "    elif i[1] > 0.5:\n",
    "        predict.append(True)\n",
    "    prt_predict.append(i[1])\n",
    "#print(len(predict))\n",
    "#print(len(y_pred[1]))\n",
    "data_test['predict'] = predict\n",
    "data_test['pourcentage'] = np.around(prt_predict,decimals = 2)"
   ]
  },
  {
   "cell_type": "code",
   "execution_count": 5,
   "metadata": {},
   "outputs": [
    {
     "data": {
      "text/html": [
       "<div>\n",
       "<style scoped>\n",
       "    .dataframe tbody tr th:only-of-type {\n",
       "        vertical-align: middle;\n",
       "    }\n",
       "\n",
       "    .dataframe tbody tr th {\n",
       "        vertical-align: top;\n",
       "    }\n",
       "\n",
       "    .dataframe thead th {\n",
       "        text-align: right;\n",
       "    }\n",
       "</style>\n",
       "<table border=\"1\" class=\"dataframe\">\n",
       "  <thead>\n",
       "    <tr style=\"text-align: right;\">\n",
       "      <th></th>\n",
       "      <th>diagonal</th>\n",
       "      <th>height_left</th>\n",
       "      <th>height_right</th>\n",
       "      <th>margin_low</th>\n",
       "      <th>margin_up</th>\n",
       "      <th>length</th>\n",
       "      <th>id</th>\n",
       "      <th>predict</th>\n",
       "      <th>pourcentage</th>\n",
       "    </tr>\n",
       "  </thead>\n",
       "  <tbody>\n",
       "    <tr>\n",
       "      <th>0</th>\n",
       "      <td>171.76</td>\n",
       "      <td>104.01</td>\n",
       "      <td>103.54</td>\n",
       "      <td>5.21</td>\n",
       "      <td>3.30</td>\n",
       "      <td>111.42</td>\n",
       "      <td>A_1</td>\n",
       "      <td>False</td>\n",
       "      <td>0.07</td>\n",
       "    </tr>\n",
       "    <tr>\n",
       "      <th>1</th>\n",
       "      <td>171.87</td>\n",
       "      <td>104.17</td>\n",
       "      <td>104.13</td>\n",
       "      <td>6.00</td>\n",
       "      <td>3.31</td>\n",
       "      <td>112.09</td>\n",
       "      <td>A_2</td>\n",
       "      <td>False</td>\n",
       "      <td>0.01</td>\n",
       "    </tr>\n",
       "    <tr>\n",
       "      <th>2</th>\n",
       "      <td>172.00</td>\n",
       "      <td>104.58</td>\n",
       "      <td>104.29</td>\n",
       "      <td>4.99</td>\n",
       "      <td>3.39</td>\n",
       "      <td>111.57</td>\n",
       "      <td>A_3</td>\n",
       "      <td>False</td>\n",
       "      <td>0.05</td>\n",
       "    </tr>\n",
       "    <tr>\n",
       "      <th>3</th>\n",
       "      <td>172.49</td>\n",
       "      <td>104.55</td>\n",
       "      <td>104.34</td>\n",
       "      <td>4.44</td>\n",
       "      <td>3.03</td>\n",
       "      <td>113.20</td>\n",
       "      <td>A_4</td>\n",
       "      <td>True</td>\n",
       "      <td>0.87</td>\n",
       "    </tr>\n",
       "    <tr>\n",
       "      <th>4</th>\n",
       "      <td>171.65</td>\n",
       "      <td>103.63</td>\n",
       "      <td>103.56</td>\n",
       "      <td>3.77</td>\n",
       "      <td>3.16</td>\n",
       "      <td>113.33</td>\n",
       "      <td>A_5</td>\n",
       "      <td>True</td>\n",
       "      <td>1.00</td>\n",
       "    </tr>\n",
       "  </tbody>\n",
       "</table>\n",
       "</div>"
      ],
      "text/plain": [
       "   diagonal  height_left  height_right  margin_low  margin_up  length   id  \\\n",
       "0    171.76       104.01        103.54        5.21       3.30  111.42  A_1   \n",
       "1    171.87       104.17        104.13        6.00       3.31  112.09  A_2   \n",
       "2    172.00       104.58        104.29        4.99       3.39  111.57  A_3   \n",
       "3    172.49       104.55        104.34        4.44       3.03  113.20  A_4   \n",
       "4    171.65       103.63        103.56        3.77       3.16  113.33  A_5   \n",
       "\n",
       "   predict  pourcentage  \n",
       "0    False         0.07  \n",
       "1    False         0.01  \n",
       "2    False         0.05  \n",
       "3     True         0.87  \n",
       "4     True         1.00  "
      ]
     },
     "execution_count": 5,
     "metadata": {},
     "output_type": "execute_result"
    }
   ],
   "source": [
    "data_test"
   ]
  },
  {
   "cell_type": "code",
   "execution_count": null,
   "metadata": {},
   "outputs": [],
   "source": []
  }
 ],
 "metadata": {
  "kernelspec": {
   "display_name": "Python 3",
   "language": "python",
   "name": "python3"
  },
  "language_info": {
   "codemirror_mode": {
    "name": "ipython",
    "version": 3
   },
   "file_extension": ".py",
   "mimetype": "text/x-python",
   "name": "python",
   "nbconvert_exporter": "python",
   "pygments_lexer": "ipython3",
   "version": "3.8.3"
  }
 },
 "nbformat": 4,
 "nbformat_minor": 4
}
